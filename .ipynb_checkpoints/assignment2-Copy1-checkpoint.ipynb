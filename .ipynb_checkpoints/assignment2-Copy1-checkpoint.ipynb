{
 "cells": [
  {
   "cell_type": "markdown",
   "metadata": {
    "pycharm": {
     "name": "#%% md\n"
    }
   },
   "source": [
    "<div style=\"background-color:#f9f9f9; padding:10px; border:1px solid #ddd; border-radius:8px;\">\n",
    "\n",
    "<h1 style='text-align:center;color:#2c3e50;font-family:Verdana;'><strong>Big Data Science - Fall 2023</strong></h1>\n",
    "\n",
    "<h2 style='text-align:center;color:#3498db;font-family:Verdana;'>Assignment 2: Large Language Models on Protein Sequences</h2>\n",
    "\n",
    "<hr style=\"border-top: 2px solid #3498db; margin-bottom: 20px; margin-top: 20px;\">\n",
    "\n",
    "<h3 style='color:#2c3e50;font-family:Verdana;'>Milestones:</h3>\n",
    "\n",
    "<ol type=\"1\" style='font-family:Verdana;'>\n",
    "    <li><span style='color:#e74c3c;'>Understanding and Implementing Attention Mechanism and BERT Architecture</span></li>\n",
    "    <li><span style='color:#27ae60;'>Fine-tuning Model on 2 Biological Tasks</span></li>\n",
    "    <li><span style='color:#3498db;'>Evaluating Models' Performance with or without pretraining</span></li>\n",
    "</ol>\n",
    "\n",
    "</div>\n"
   ]
  },
  {
   "cell_type": "markdown",
   "metadata": {
    "pycharm": {
     "name": "#%% md\n"
    }
   },
   "source": [
    "<div style=\"background-color:#f9f9f9; padding:20px; border:1px solid #ddd; border-radius:8px; font-family:Verdana;\">\n",
    "\n",
    "<h3 style='color:#2c3e50;'><strong>Submission Deadline: Friday, December 8 at 8:59 P.M.</strong></h3>\n",
    "\n",
    "<p style='color:#2c3e50;'><strong>Notes before you embark on this assignment journey:</strong></p>\n",
    "\n",
    "<ul style='color:#2c3e50;'>\n",
    "    <li><strong>Avoid using built-in libraries</strong> for the core algorithms, strive to build from scratch to strengthen your understanding. If you are allowed to use built-in libraries, you will be notified in the respective sections.\n",
    "    </li>\n",
    "    <li><strong>Collaboration is key</strong> to successful learning, feel free to discuss problems with your peers but ensure your submissions are individual efforts.</li>\n",
    "    <li><strong>The early bird catches the worm!</strong> Start early to allow ample time for exploring, implementing, and seeking help if needed.</li>\n",
    "    <li><strong>Ensure your submission</strong> is a well-documented Jupyter Notebook. Attach your *.ipynb file under Assignment 2 on Canvas.</li>\n",
    "</ul>\n",
    "\n",
    "</div>"
   ]
  },
  {
   "cell_type": "markdown",
   "metadata": {
    "pycharm": {
     "name": "#%% md\n"
    }
   },
   "source": [
    "<div style=\"background-color:#f9f9f9; padding:20px; border:1px solid #ddd; border-radius:8px; font-family:Verdana;\">\n",
    "\n",
    "<h2 style='color:#2c3e50;'><strong>Section 1: Problem Definition</strong></h2>\n",
    "\n",
    "<hr style=\"border-top: 2px solid #3498db; margin-bottom: 20px; margin-top: 20px;\">\n",
    "\n",
    "<h3 style='color:#2c3e50;'>Goal</h3>\n",
    "<p style='color:#2c3e50;'>Dive into the realm of Molecular Biology and explore how a Language Model (LM) like BERT can be harnessed for protein sequences. </p>\n",
    "\n",
    "<h3 style='color:#2c3e50;'>Introduction to the Problem Domains</h3>\n",
    "<ul style='color:#2c3e50;'>\n",
    "    <li><strong>Proteins</strong> are the workhorses of the body, performing a wide range of functions and biological processes necessary for survival and wellbeing. Understanding their functions can aid in drug discovery, disease diagnosis, and much more. \n",
    "    Proteins are at least 50, and usually more than 100, amino acids in length and composed of multiple peptide subunits. Each protein consists of a linear sequence of amino acids. The sequence of a protein is usually notated as a string of letters including 22 aminoacids and are varied in length from very short to very long! For instance, in NLP we use words and sentences as sequences, similarly in protein modeling we also work with sequences which looks something like this: \n",
    "    <br>​\n",
    "    V​​L​​S​​P​​A​​D​​K​​T​​N​​VK​​A​​A​​W​​G​​K​​V​​G​​A​​H​A​​G​​E​​Y​​G​​A​​E​​A​​L​​E​R​​M​​F​​L​​S​​F​​P​​T​​T​​KT​​Y​​F​​P​​H​​F​​D​​L​​S​​HG​​S​​A​​Q​​V​​K​​G​​H​​G​​K​K​​V​​A​​D​​A​​L​​T​​N​​A​​VA​​H​​V​​D​​D​​M​​P​​N​​A​​L​S​​A​​L​​S​​D​​L​​H​​A​​H​​K​​L​​R​​V​​D​​P​​V​​N​​F​​K​​L​L​​S​​H​​C​​L​​L​​V​​T​​L​​AA​​H​​L​​P​​A​​E​​F​​T​​P​​A​V​​H​​A​​S​​L​​D​​K​​F​​L​​A​​S​​V​​S​​T​​V​​L​​T​​S​​K​​Y​ \n",
    "    </br>\n",
    "    <img alt=\"Protein Structure\" src=\"protein.jpeg\" width=\"600\" height=\"400\" align=\"center\"/>\n",
    "    <br>\n",
    "    This sequence belongs to a structure that looks like this: </br>\n",
    "    </li>\n",
    "    <img alt=\"Protein Structure\" src=\"structure.jpg\" width=\"600\" height=\"400\" align=\"center\"/>\n",
    "    <br>\n",
    "    You can find more information about proteins <a href=\"https://www.khanacademy.org/science/biology/macromolecules/proteins-and-amino-acids/v/introduction-to-amino-acids\">here</a>.\n",
    "    </br>\n",
    "    <li><strong>Signal Peptides (SP)</strong> are short sequences of amino acids, typically between 2 and 50 amino acids in length, within a protein that direct the protein to specific locations within or outside the cell. They act like postal addresses, guiding the cellular delivery machinery to transport the protein to its intended location.Once the protein reaches its destination, the signal peptide is often cleaved off by specific enzymes. In the following image, you can see the difference between a peptide and a protein: \n",
    "    <br>\n",
    "    <img alt=\"protein vs peptide\" src=\"peptide.jpeg\" width=\"600\" height=\"400\" align=\"center\"/>\n",
    "    <br>\n",
    "    You can find more information about peptides <a href=\"https://www.cellgs.com/blog/the-difference-between-peptides-and-proteins.html\">here</a>.\n",
    "    <br>\n",
    "    We have a dataset for signal peptides detection in \"data/signal_peptide\" directory. In this dataset, if a protein sequence has a signal peptide, it is labeled as 1, otherwise it is labeled as 0.\n",
    "    </br>\n",
    "    </li>\n",
    "    <li><strong>SCOP</strong>, which stands for Structural Classification of Proteins is a largely manual classification of protein structural domains based on similarities of their structures and amino acid sequences. Predicting the structural class of a protein sequence is another fine-tuning task that we will do in this assignment. For each protein sequence, we have its structural class as its label in \"data/scop\" directory. Labels are categorical and there are 7 classes in total.\n",
    "    </li>\n",
    "</ul>\n",
    "</div>"
   ]
  },
  {
   "cell_type": "markdown",
   "metadata": {},
   "source": [
    "<div style=\"background-color:#f9f9f9; padding:20px; border:1px solid #ddd; border-radius:8px; font-family:Verdana;\">\n",
    "\n",
    "<h3 style='color:#2c3e50;'><strong>Import Libraries and Read Data</strong></h3>\n"
   ]
  },
  {
   "cell_type": "code",
   "execution_count": 1,
   "metadata": {},
   "outputs": [],
   "source": [
    "# Please do not change this cell. Run it without changes.\n",
    "# This cell imports the required libraries and sets some parameters.\n",
    "# If you want to change the parameters, you can do so here and mention why you changed them with a comment.\n",
    "\n",
    "import numpy as np\n",
    "import pandas as pd\n",
    "import tensorflow as tf\n",
    "import os\n",
    "import math\n",
    "from sklearn.model_selection import train_test_split\n",
    "from sklearn.metrics import accuracy_score, precision_score, recall_score, f1_score\n",
    "\n",
    "max_length = 256 # size of the input sequences - if a sequence is longer than this, it will be truncated. If it's shorter, it will be padded.\n",
    "batch_size = 32  # number of sequences that will be given to the model at once\n",
    "epochs = 10     # number of times the model will see the whole training set\n",
    "lr = 1e-2      # learning rate\n",
    "vocab_size = 26  # size of the vocabulary - do not change \n",
    "embed_size = 128 # size of the embeddings - do not change\n",
    "n_heads = 4     # number of attention heads - do not change\n",
    "n_layers = 2   # number of transformer layers - do not change"
   ]
  },
  {
   "cell_type": "code",
   "execution_count": 2,
   "metadata": {},
   "outputs": [],
   "source": [
    "# please don't change this cell. Run it without changes.\n",
    "# this cell is for loading the data needed for the assignment. \n",
    "# pretrain data is downloaded from UniprotKB-SwissProt (https://www.uniprot.org/downloads) latest release.\n",
    "\n",
    "pretrain_data = pd.read_csv('data/pretrain.tsv', sep='\\t')\n",
    "# scop data\n",
    "scop_train_data = pd.read_csv('data/scop/scop.train.csv')\n",
    "scop_test_data = pd.read_csv('data/scop/scop.test.csv')\n",
    "# signal peptide data\n",
    "signalp_train_data = pd.read_csv('data/signal_peptide/signalP_binary.train.csv')\n",
    "signalp_test_data = pd.read_csv('data/signal_peptide/signalP_binary.test.csv')"
   ]
  },
  {
   "cell_type": "code",
   "execution_count": 3,
   "metadata": {},
   "outputs": [
    {
     "data": {
      "text/html": [
       "<div>\n",
       "<style scoped>\n",
       "    .dataframe tbody tr th:only-of-type {\n",
       "        vertical-align: middle;\n",
       "    }\n",
       "\n",
       "    .dataframe tbody tr th {\n",
       "        vertical-align: top;\n",
       "    }\n",
       "\n",
       "    .dataframe thead th {\n",
       "        text-align: right;\n",
       "    }\n",
       "</style>\n",
       "<table border=\"1\" class=\"dataframe\">\n",
       "  <thead>\n",
       "    <tr style=\"text-align: right;\">\n",
       "      <th></th>\n",
       "      <th>id</th>\n",
       "      <th>seq</th>\n",
       "    </tr>\n",
       "  </thead>\n",
       "  <tbody>\n",
       "    <tr>\n",
       "      <th>0</th>\n",
       "      <td>Q65W17</td>\n",
       "      <td>MKPLVIKLGGVLLDTPAAMENLFTALADYQQNFARPLLIVHGGGCL...</td>\n",
       "    </tr>\n",
       "    <tr>\n",
       "      <th>1</th>\n",
       "      <td>Q12ZI9</td>\n",
       "      <td>MFTILTGSQFGDEGKGKIVDLLSKDYDLVVRFQGGDNAGHTVVVGD...</td>\n",
       "    </tr>\n",
       "    <tr>\n",
       "      <th>2</th>\n",
       "      <td>O08400</td>\n",
       "      <td>MTRISRSAYAEIYGPTVVGGVGDRVRLADTLLLAEVEKDHTIFGEE...</td>\n",
       "    </tr>\n",
       "    <tr>\n",
       "      <th>3</th>\n",
       "      <td>O14232</td>\n",
       "      <td>MFGGELDDAFGVFEGKVPKSLKEESKNSQNSQNSQKIKRTLTDKNA...</td>\n",
       "    </tr>\n",
       "    <tr>\n",
       "      <th>4</th>\n",
       "      <td>Q2FQ95</td>\n",
       "      <td>MNILIVNRYGDPDVEEFSYELEKLLHHHGHHTSIYKENLLGEAPPL...</td>\n",
       "    </tr>\n",
       "  </tbody>\n",
       "</table>\n",
       "</div>"
      ],
      "text/plain": [
       "       id                                                seq\n",
       "0  Q65W17  MKPLVIKLGGVLLDTPAAMENLFTALADYQQNFARPLLIVHGGGCL...\n",
       "1  Q12ZI9  MFTILTGSQFGDEGKGKIVDLLSKDYDLVVRFQGGDNAGHTVVVGD...\n",
       "2  O08400  MTRISRSAYAEIYGPTVVGGVGDRVRLADTLLLAEVEKDHTIFGEE...\n",
       "3  O14232  MFGGELDDAFGVFEGKVPKSLKEESKNSQNSQNSQKIKRTLTDKNA...\n",
       "4  Q2FQ95  MNILIVNRYGDPDVEEFSYELEKLLHHHGHHTSIYKENLLGEAPPL..."
      ]
     },
     "execution_count": 3,
     "metadata": {},
     "output_type": "execute_result"
    }
   ],
   "source": [
    "# please don't change this cell. Run it without changes.\n",
    "# this cell is for looking at the pretrain data to get an idea of what it looks like.\n",
    "\n",
    "pretrain_data.head()"
   ]
  },
  {
   "cell_type": "code",
   "execution_count": 4,
   "metadata": {},
   "outputs": [
    {
     "data": {
      "text/html": [
       "<div>\n",
       "<style scoped>\n",
       "    .dataframe tbody tr th:only-of-type {\n",
       "        vertical-align: middle;\n",
       "    }\n",
       "\n",
       "    .dataframe tbody tr th {\n",
       "        vertical-align: top;\n",
       "    }\n",
       "\n",
       "    .dataframe thead th {\n",
       "        text-align: right;\n",
       "    }\n",
       "</style>\n",
       "<table border=\"1\" class=\"dataframe\">\n",
       "  <thead>\n",
       "    <tr style=\"text-align: right;\">\n",
       "      <th></th>\n",
       "      <th>seq</th>\n",
       "      <th>label</th>\n",
       "    </tr>\n",
       "  </thead>\n",
       "  <tbody>\n",
       "    <tr>\n",
       "      <th>0</th>\n",
       "      <td>MSPFTGSAAPTPEWRHLRVEITDGVATVTLARPDKLNALTFEAYAD...</td>\n",
       "      <td>c</td>\n",
       "    </tr>\n",
       "    <tr>\n",
       "      <th>1</th>\n",
       "      <td>MVVTKLAPDFKAPAVLGNNEVDEHFELSKNLGKNGVILFFWPKDFT...</td>\n",
       "      <td>c</td>\n",
       "    </tr>\n",
       "    <tr>\n",
       "      <th>2</th>\n",
       "      <td>MKVGIDAGGTLIKIVQEQDNQRTFKTELTKNIDQVVEWLNQQQIEK...</td>\n",
       "      <td>c</td>\n",
       "    </tr>\n",
       "    <tr>\n",
       "      <th>3</th>\n",
       "      <td>LYKLLILDIDGTLRDEVYGIPESAKHAIRLCQKNHCSVVICTGRSM...</td>\n",
       "      <td>c</td>\n",
       "    </tr>\n",
       "    <tr>\n",
       "      <th>4</th>\n",
       "      <td>NTSNITFIGGGNMARNIVVGLIANGYDPNRICVTNRSLDKLDFFKE...</td>\n",
       "      <td>c</td>\n",
       "    </tr>\n",
       "  </tbody>\n",
       "</table>\n",
       "</div>"
      ],
      "text/plain": [
       "                                                 seq label\n",
       "0  MSPFTGSAAPTPEWRHLRVEITDGVATVTLARPDKLNALTFEAYAD...     c\n",
       "1  MVVTKLAPDFKAPAVLGNNEVDEHFELSKNLGKNGVILFFWPKDFT...     c\n",
       "2  MKVGIDAGGTLIKIVQEQDNQRTFKTELTKNIDQVVEWLNQQQIEK...     c\n",
       "3  LYKLLILDIDGTLRDEVYGIPESAKHAIRLCQKNHCSVVICTGRSM...     c\n",
       "4  NTSNITFIGGGNMARNIVVGLIANGYDPNRICVTNRSLDKLDFFKE...     c"
      ]
     },
     "execution_count": 4,
     "metadata": {},
     "output_type": "execute_result"
    }
   ],
   "source": [
    "# please don't change this cell. Run it without changes.\n",
    "# this cell is for looking at the scop data to get an idea of what it looks like.\n",
    "\n",
    "scop_train_data.head()"
   ]
  },
  {
   "cell_type": "code",
   "execution_count": 5,
   "metadata": {},
   "outputs": [
    {
     "data": {
      "text/html": [
       "<div>\n",
       "<style scoped>\n",
       "    .dataframe tbody tr th:only-of-type {\n",
       "        vertical-align: middle;\n",
       "    }\n",
       "\n",
       "    .dataframe tbody tr th {\n",
       "        vertical-align: top;\n",
       "    }\n",
       "\n",
       "    .dataframe thead th {\n",
       "        text-align: right;\n",
       "    }\n",
       "</style>\n",
       "<table border=\"1\" class=\"dataframe\">\n",
       "  <thead>\n",
       "    <tr style=\"text-align: right;\">\n",
       "      <th></th>\n",
       "      <th>label</th>\n",
       "      <th>seq</th>\n",
       "    </tr>\n",
       "  </thead>\n",
       "  <tbody>\n",
       "    <tr>\n",
       "      <th>0</th>\n",
       "      <td>0</td>\n",
       "      <td>MLGMIRNSLFGSVETWPWQVLSTGGKEDVSYEERACEGGKFATVEV...</td>\n",
       "    </tr>\n",
       "    <tr>\n",
       "      <th>1</th>\n",
       "      <td>1</td>\n",
       "      <td>MQPAKNLLFSSLLFSSLLFSSAARAASEDGGRGPYVQADLAYAAER...</td>\n",
       "    </tr>\n",
       "    <tr>\n",
       "      <th>2</th>\n",
       "      <td>0</td>\n",
       "      <td>MDKGEGLRLAATLRQWTRLYGGCHLLLGAVVCSLLAACSSSPPGGV...</td>\n",
       "    </tr>\n",
       "    <tr>\n",
       "      <th>3</th>\n",
       "      <td>0</td>\n",
       "      <td>MKFIDEAKIEVAAGKGGNGATSFRREKFVPRGGPDGGDGGKGGSVW...</td>\n",
       "    </tr>\n",
       "    <tr>\n",
       "      <th>4</th>\n",
       "      <td>0</td>\n",
       "      <td>MVAGMLMPRDQLRAIYEVLFREGVMVAKKDRRPRSLHPHVPGVTNL...</td>\n",
       "    </tr>\n",
       "  </tbody>\n",
       "</table>\n",
       "</div>"
      ],
      "text/plain": [
       "   label                                                seq\n",
       "0      0  MLGMIRNSLFGSVETWPWQVLSTGGKEDVSYEERACEGGKFATVEV...\n",
       "1      1  MQPAKNLLFSSLLFSSLLFSSAARAASEDGGRGPYVQADLAYAAER...\n",
       "2      0  MDKGEGLRLAATLRQWTRLYGGCHLLLGAVVCSLLAACSSSPPGGV...\n",
       "3      0  MKFIDEAKIEVAAGKGGNGATSFRREKFVPRGGPDGGDGGKGGSVW...\n",
       "4      0  MVAGMLMPRDQLRAIYEVLFREGVMVAKKDRRPRSLHPHVPGVTNL..."
      ]
     },
     "execution_count": 5,
     "metadata": {},
     "output_type": "execute_result"
    }
   ],
   "source": [
    "# please don't change this cell. Run it without changes.\n",
    "# this cell is for looking at the signal peptide data to get an idea of what it looks like.\n",
    "\n",
    "signalp_train_data.head()"
   ]
  },
  {
   "cell_type": "markdown",
   "metadata": {
    "pycharm": {
     "name": "#%% md\n"
    }
   },
   "source": [
    "<div style=\"background-color:#f9f9f9; padding:20px; border:1px solid #ddd; border-radius:8px; font-family:Verdana;\">\n",
    "\n",
    "<h3 style='color:#2c3e50;'><strong>Section 1. Tokenize Protein Sequences</strong></h3>\n",
    "\n",
    "<p style='color:#2c3e50;'>Firstly, you need to have your protein sequences in a format that can be fed into the model. Each amino acid can be represented by a unique token (or ID), similar to how each word is represented by a unique token in NLP tasks. A common representation is to use the single-letter codes for amino acids.</p>\n",
    "<p style='color:#2c3e50;'>We have <b>22 amino acids: \"ACDEFGHIKLMNPQRSTUVWXY\" </b>. There also can be invalid amino acids in protein sequences that we can encode them by <b>'OTHER' </b>token. We need tokens <b>'START'</b>, <b>'END'</b>, and <b>'PAD'</b> for showing starting of the protein sequence, end of protein sequence and padding the protein sequence to a fixed size. <p><b> Do not use predefined tokenizer in keras or tensorflow. You need to implement your own tokenizer for protein sequences.</b></p>\n",
    "</p>\n",
    "<p>\n",
    "    <b>Example (padding to size 32):</b> <br>\n",
    "    <b>Label encoding:</b> {A: 0, C: 1, D: 2, E: 3, F: 4, G: 5, H: 6, I: 7, K: 8, L: 9, M: 10, N: 11, P: 12, Q: 13, R: 14, S: 15, T: 16, V: 17, W: 18, X: 19, Y: 20, OTHER: 21, START: 22, END: 23, PAD: 24} <br>\n",
    "    <b>Input:</b> \"ACDEFGHIKLMNPQRSTUVWXY\" <br>\n",
    "    <b>Output:</b> [22, 0, 1, 2, 3, 4, 5, 6, 7, 8, 9, 10,11, 12, 13, 14, 15, 16, 17, 18, 19, 20, 23, 24, 24, 24, 24, 24, 24, 24, 24, 24] <br>\n",
    "</p>\n",
    "</div>\n"
   ]
  },
  {
   "cell_type": "code",
   "execution_count": 6,
   "metadata": {
    "scrolled": true
   },
   "outputs": [],
   "source": [
    "# fill this function to tokenize a sequence into a list of integers and return the list of integers representing the sequence like the example above.\n",
    "def tokenize_seq(seq, max_length=512):\n",
    "    '''\n",
    "    Tokenize a sequence into a list of integers.\n",
    "    assign each amino acid to a unique integer and add <START>, <END>, <PAD>, <OTHER> tokens to the vocabulary.\n",
    "    <START> token is added to the beginning of each sequence\n",
    "    <END> token is added to the end of each sequence\n",
    "    <PAD> token is used to pad sequences to the same length (max_length)\n",
    "    <OTHER> token is used to represent all amino acids that are not in the vocabulary\n",
    "    \n",
    "    Args:\n",
    "        seq (str): protein sequence\n",
    "        max_length (int): maximum length of the sequence\n",
    "    Returns:\n",
    "        tokenized_seq: list of integers representing the sequence\n",
    "    '''\n",
    "    # YOUR CODE HERE\n",
    "    amino_acid_map = {\n",
    "        'A': 0, 'C': 1, 'D': 2, 'E': 3, 'F': 4, 'G': 5, 'H': 6, 'I': 7, 'K': 8, \n",
    "        'L': 9, 'M': 10, 'N': 11, 'P': 12, 'Q': 13, 'R': 14, 'S': 15, 'T': 16, \n",
    "        'V': 17, 'W': 18, 'X': 19, 'Y': 20, 'OTHER': 21, 'START': 22, 'END': 23, 'PAD': 24\n",
    "    }\n",
    "\n",
    "    # Convert the sequence to a list of amino acids\n",
    "    amino_acids = list(seq)\n",
    "\n",
    "    # Start with the START token\n",
    "    tokenized_seq = [amino_acid_map['START']]\n",
    "\n",
    "    # Convert each amino acid to its corresponding token\n",
    "    for aa in amino_acids:\n",
    "        tokenized_seq.append(amino_acid_map.get(aa, amino_acid_map['OTHER']))\n",
    "\n",
    "    # Add the END token\n",
    "    tokenized_seq.append(amino_acid_map['END'])\n",
    "\n",
    "    # Pad the sequence to max_length with PAD tokens\n",
    "    while len(tokenized_seq) < max_length:\n",
    "        tokenized_seq.append(amino_acid_map['PAD'])\n",
    "\n",
    "    # Truncate the sequence if it exceeds max_length\n",
    "    return tokenized_seq[:max_length]\n",
    "    "
   ]
  },
  {
   "cell_type": "code",
   "execution_count": 7,
   "metadata": {},
   "outputs": [],
   "source": [
    "# please don't change this cell and don't add any print statements to this cell. Run it without changes.\n",
    "# this cell is tokenizing the pretrain data and converting it to numpy array.\n",
    "\n",
    "pretrain_seq = [tokenize_seq(seq) for seq in pretrain_data['seq']]\n",
    "pretrain_seq = np.array(pretrain_seq)\n",
    "pretrain_seq = pretrain_seq.astype(np.int32)"
   ]
  },
  {
   "cell_type": "code",
   "execution_count": 8,
   "metadata": {},
   "outputs": [
    {
     "data": {
      "text/plain": [
       "array([[22, 10,  8, ..., 24, 24, 24],\n",
       "       [22, 10,  4, ..., 24, 24, 24],\n",
       "       [22, 10, 16, ...,  9,  5,  9],\n",
       "       ...,\n",
       "       [22, 10, 16, ..., 24, 24, 24],\n",
       "       [22,  2,  7, ..., 24, 24, 24],\n",
       "       [22, 10,  0, ..., 24, 24, 24]])"
      ]
     },
     "execution_count": 8,
     "metadata": {},
     "output_type": "execute_result"
    }
   ],
   "source": [
    "pretrain_seq"
   ]
  },
  {
   "cell_type": "markdown",
   "metadata": {},
   "source": [
    "<div style=\"background-color:#f9f9f9; padding:20px; border:1px solid #ddd; border-radius:8px; font-family:Verdana;\">\n",
    "\n",
    "<h2 style='color:#2c3e50;'><strong>Section 2: Pretrain a Language Model</strong></h2>\n",
    "\n",
    "<hr style=\"border-top: 2px solid #3498db; margin-bottom: 20px; margin-top: 20px;\">\n",
    "\n",
    "<ul style='color:#2c3e50;'>\n",
    "    <li>Implement the attention mechanism</li>\n",
    "    <li>Implement BERT architecture</li>\n",
    "    <li>Train the model by the protein sequences.</li>\n",
    "</ul>\n",
    "\n",
    "</div>"
   ]
  },
  {
   "cell_type": "markdown",
   "metadata": {
    "pycharm": {
     "name": "#%% md\n"
    }
   },
   "source": [
    "<div style=\"background-color:#f9f9f9; padding:20px; border:1px solid #ddd; border-radius:8px; font-family:Verdana;\">\n",
    "\n",
    "<h3 style='color:#2c3e50;'><strong>Task 2.1: Implementing the Self-Attention Class</strong></h3>\n",
    "\n",
    "<p style='color:#2c3e50;'>Implement a multihead self-attention mechanism that will be the building block for BERT model.</p>\n",
    "\n",
    "<p style='color:#2c3e50;'><strong>Multihead self-attention</strong> is a mechanism at the heart of Transformer models, which are widely used for various natural language processing tasks. It allows the model to focus on different positions of the input sequence simultaneously when producing an output. Here's a simplified explanation:\n",
    "<p style='color:#2c3e50;'>\n",
    "<strong>Self-Attention:</strong> This component allows each position in a sequence to attend to all positions within the same sequence when computing the representation of itself. It helps the model capture context from the entire sequence.\n",
    "<p style='color:#2c3e50;'>\n",
    "<strong>Multihead:</strong> The 'multihead' part means that the self-attention process is duplicated multiple times (each 'head' being one instance). Each head attends to information from different representational spaces at different positions. This means that instead of having a single set of attention weights for each position, you have multiple sets, allowing the model to capture a diverse range of information which enhances its learning capacity for complex patterns in data.\n",
    "<p style='color:#2c3e50;'>\n",
    "<strong>Mechanism Overview:</strong> In practice, for each head, the input sequence is linearly transformed to a set of queries, keys, and values using learned weights. Then, the attention scores are computed by a <b>scaled dot-product of queries and keys</b>, which are used to weight the values. The outputs of each head are concatenated and once again linearly transformed to produce the final output. </p>\n",
    "<img alt=\"Multihead Self-Attention\" src=\"attention.jpg\" width=\"600\" height=\"400\" align=\"center\"/>\n",
    "<p> You can read more about attention mechanism <a href=\"https://towardsdatascience.com/transformers-explained-visually-part-3-multi-head-attention-deep-dive-1c1ff1024853\">here</a>.</p>\n",
    "<p>\n",
    "An attention mask in the context of self-attention mechanisms is used to prevent certain positions from being attended to. For instance, when processing sequences of different lengths, padding tokens are added to achieve uniformity in length. An attention mask can be applied to ensure that these padding tokens do not influence the model's output. It's also used to enforce causality in sequence-to-sequence tasks, ensuring that predictions for a certain position can't depend on future positions. Although it is necessary to use attention masks in some cases, we will not use them in this assignment.\n",
    "</div>"
   ]
  },
  {
   "cell_type": "code",
   "execution_count": 9,
   "metadata": {},
   "outputs": [],
   "source": [
    "class multiSelfAttentionHead(tf.keras.layers.Layer):\n",
    "    def __init__(self, num_heads=4, k_dim=64, **kwargs):\n",
    "        super(multiSelfAttentionHead, self).__init__(**kwargs)\n",
    "        self.num_heads = num_heads\n",
    "        self.key_dim = k_dim\n",
    "        self.scale = k_dim ** -0.5\n",
    "        self.depth = self.key_dim // self.num_heads\n",
    "\n",
    "    def build(self, input_shape):\n",
    "        d_model = input_shape[-1]\n",
    "\n",
    "        # Initialize weights for Q, K, V, and Wo\n",
    "        self.wq = self.add_weight(name='wq', shape=(d_model, self.key_dim), initializer='random_normal', trainable=True)\n",
    "        self.wk = self.add_weight(name='wk', shape=(d_model, self.key_dim), initializer='random_normal', trainable=True)\n",
    "        self.wv = self.add_weight(name='wv', shape=(d_model, self.key_dim), initializer='random_normal', trainable=True)\n",
    "        self.wo = self.add_weight(name='wo', shape=(self.key_dim, d_model), initializer='random_normal', trainable=True)\n",
    "        \n",
    "        assert self.key_dim % self.num_heads == 0\n",
    "        super(multiSelfAttentionHead, self).build(input_shape)\n",
    "\n",
    "    def split_heads(self, x, batch_size):\n",
    "        x = tf.reshape(x, (batch_size, -1, self.num_heads, self.depth))\n",
    "        return tf.transpose(x, perm=[0, 2, 1, 3])\n",
    "    \n",
    "    def call(self, inputs):\n",
    "        batch_size = tf.shape(inputs)[0]\n",
    "\n",
    "        # Linear projections\n",
    "        query = tf.matmul(inputs, self.wq)\n",
    "        key = tf.matmul(inputs, self.wk)\n",
    "        value = tf.matmul(inputs, self.wv)\n",
    "\n",
    "        # Split heads\n",
    "        query = self.split_heads(query, batch_size)\n",
    "        key = self.split_heads(key, batch_size)\n",
    "        value = self.split_heads(value, batch_size)\n",
    "\n",
    "        # Scaled dot-product attention\n",
    "        matmul_qk = tf.matmul(query, key, transpose_b=True)\n",
    "        scaled_attention_logits = matmul_qk * self.scale\n",
    "        attention_weights = tf.nn.softmax(scaled_attention_logits, axis=-1)\n",
    "        context = tf.matmul(attention_weights, value)\n",
    "\n",
    "        # Concatenate heads\n",
    "        context = tf.transpose(context, perm=[0, 2, 1, 3])\n",
    "        context = tf.reshape(context, (batch_size, -1, self.key_dim))\n",
    "\n",
    "        # Final linear projection\n",
    "        outputs = tf.matmul(context, self.wo)\n",
    "        return outputs\n"
   ]
  },
  {
   "cell_type": "markdown",
   "metadata": {
    "pycharm": {
     "name": "#%% md\n"
    }
   },
   "source": [
    "<div style=\"background-color:#f9f9f9; padding:20px; border:1px solid #ddd; border-radius:8px; font-family:Verdana;\">\n",
    "\n",
    "<h3 style='color:#2c3e50;'><strong>Task 2.2: Implementing the BERT Architecture</strong></h3>\n",
    "\n",
    "<p style='color:#2c3e50;'>Implement BERT architecture.</p>\n",
    "<p> You can read more about BERT in the original <a href=\"https://arxiv.org/pdf/1810.04805.pdf\">paper</a>.</p>\n",
    "<p>\n",
    "BERT is based on encoder transformer. Encoder consists of multi-head attention and feed-forward neural network. In original Transformers paper <a href=\"https://arxiv.org/pdf/1706.03762.pdf\">Attention Is All You Need</a> and in this assignment, the stack of identical encoder layers is used. \n",
    "</p>\n",
    "<img alt=\"Encoder transformer\" src=\"encoder.png\" width=\"300\" height=\"400\" align=\"center\"/>\n",
    "<p> In BERT function, you need to implement the following steps:</p>\n",
    "<p>\n",
    "<strong>Inputs:</strong> The function takes several parameters like vocabulary size, embedding size, number of layers, attention heads, and maximum sequence length. Additionally, it expects an input sequence and an attention mask when called.\n",
    "<p>\n",
    "<strong>Embedding Layer:</strong> The model begins by mapping the input sequence of tokens to vectors using an embedding layer.\n",
    "<p>\n",
    "<strong>Encoder Layers:</strong> It then passes the embedded input through a series of identical layers. Each layer consists of:\n",
    "1. A multi-head self-attention mechanism that allows the model to capture different aspects of the data. The attention output is combined with the original embeddings using a residual connection followed by layer normalization.\n",
    "2. A feed-forward neural network (FFN) with two dense layers is applied after each attention mechanism, also followed by a residual connection and layer normalization.\n",
    "<p>\n",
    "<strong>Outputs:</strong> After processing the input through the specified number of encoder layers, the function applies a dense layer with softmax activation to produce a probability distribution over the vocabulary for each position in the input sequence.\n",
    "<p>\n",
    "<strong>Model Creation:</strong> Finally, it encapsulates the complete architecture within a Keras Model object, which can be compiled and trained.\n",
    "\n",
    "</div>"
   ]
  },
  {
   "cell_type": "code",
   "execution_count": 10,
   "metadata": {},
   "outputs": [
    {
     "name": "stdout",
     "output_type": "stream",
     "text": [
      "Model: \"model\"\n",
      "__________________________________________________________________________________________________\n",
      " Layer (type)                Output Shape                 Param #   Connected to                  \n",
      "==================================================================================================\n",
      " input_1 (InputLayer)        [(None, 256)]                0         []                            \n",
      "                                                                                                  \n",
      " embedding (Embedding)       (None, 256, 128)             128000    ['input_1[0][0]']             \n",
      "                                                                                                  \n",
      " multi_self_attention_head   (None, None, 128)            65536     ['embedding[0][0]']           \n",
      " (multiSelfAttentionHead)                                                                         \n",
      "                                                                                                  \n",
      " tf.__operators__.add (TFOp  (None, 256, 128)             0         ['multi_self_attention_head[0]\n",
      " Lambda)                                                            [0]',                         \n",
      "                                                                     'embedding[0][0]']           \n",
      "                                                                                                  \n",
      " layer_normalization (Layer  (None, 256, 128)             256       ['tf.__operators__.add[0][0]']\n",
      " Normalization)                                                                                   \n",
      "                                                                                                  \n",
      " dense (Dense)               (None, 256, 128)             16512     ['layer_normalization[0][0]'] \n",
      "                                                                                                  \n",
      " dense_1 (Dense)             (None, 256, 128)             16512     ['dense[0][0]']               \n",
      "                                                                                                  \n",
      " tf.__operators__.add_1 (TF  (None, 256, 128)             0         ['dense_1[0][0]',             \n",
      " OpLambda)                                                           'layer_normalization[0][0]'] \n",
      "                                                                                                  \n",
      " layer_normalization_1 (Lay  (None, 256, 128)             256       ['tf.__operators__.add_1[0][0]\n",
      " erNormalization)                                                   ']                            \n",
      "                                                                                                  \n",
      " multi_self_attention_head_  (None, None, 128)            65536     ['layer_normalization_1[0][0]'\n",
      " 1 (multiSelfAttentionHead)                                         ]                             \n",
      "                                                                                                  \n",
      " tf.__operators__.add_2 (TF  (None, 256, 128)             0         ['multi_self_attention_head_1[\n",
      " OpLambda)                                                          0][0]',                       \n",
      "                                                                     'layer_normalization_1[0][0]'\n",
      "                                                                    ]                             \n",
      "                                                                                                  \n",
      " layer_normalization_2 (Lay  (None, 256, 128)             256       ['tf.__operators__.add_2[0][0]\n",
      " erNormalization)                                                   ']                            \n",
      "                                                                                                  \n",
      " dense_2 (Dense)             (None, 256, 128)             16512     ['layer_normalization_2[0][0]'\n",
      "                                                                    ]                             \n",
      "                                                                                                  \n",
      " dense_3 (Dense)             (None, 256, 128)             16512     ['dense_2[0][0]']             \n",
      "                                                                                                  \n",
      " tf.__operators__.add_3 (TF  (None, 256, 128)             0         ['dense_3[0][0]',             \n",
      " OpLambda)                                                           'layer_normalization_2[0][0]'\n",
      "                                                                    ]                             \n",
      "                                                                                                  \n",
      " layer_normalization_3 (Lay  (None, 256, 128)             256       ['tf.__operators__.add_3[0][0]\n",
      " erNormalization)                                                   ']                            \n",
      "                                                                                                  \n",
      " dense_4 (Dense)             (None, 256, 1000)            129000    ['layer_normalization_3[0][0]'\n",
      "                                                                    ]                             \n",
      "                                                                                                  \n",
      "==================================================================================================\n",
      "Total params: 455144 (1.74 MB)\n",
      "Trainable params: 455144 (1.74 MB)\n",
      "Non-trainable params: 0 (0.00 Byte)\n",
      "__________________________________________________________________________________________________\n"
     ]
    }
   ],
   "source": [
    "import tensorflow as tf\n",
    "from tensorflow.keras.layers import Input, Embedding, Dense, LayerNormalization\n",
    "from tensorflow.keras.models import Model\n",
    "\n",
    "def BERT(vocab_size, embed_size=128, n_layers=2, n_heads=4, max_length=256):\n",
    "    # Input Layer\n",
    "    inputs = Input(shape=(max_length,), dtype='int32')\n",
    "\n",
    "    # Embedding Layer\n",
    "    embeddings = Embedding(vocab_size, embed_size)(inputs)\n",
    "\n",
    "    # Initialize Encoder Layers\n",
    "    encoder_output = embeddings\n",
    "    for _ in range(n_layers):\n",
    "        # Multi-Head Self-Attention\n",
    "        attention = multiSelfAttentionHead(num_heads=n_heads, k_dim=embed_size)(encoder_output)\n",
    "\n",
    "        # Add and Norm Layer\n",
    "        attention_output = LayerNormalization(epsilon=1e-6)(attention + encoder_output)\n",
    "\n",
    "        # Feed-Forward Layer\n",
    "        ffn_output = Dense(embed_size, activation='relu')(attention_output)\n",
    "        ffn_output = Dense(embed_size)(ffn_output)\n",
    "\n",
    "        # Add and Norm Layer\n",
    "        encoder_output = LayerNormalization(epsilon=1e-6)(ffn_output + attention_output)\n",
    "\n",
    "    # Output Layer\n",
    "    outputs = Dense(vocab_size, activation='softmax')(encoder_output)\n",
    "\n",
    "    # Create Model\n",
    "    model = Model(inputs=inputs, outputs=outputs)\n",
    "    return model\n",
    "\n",
    "# Usage Example\n",
    "bert_model = BERT(vocab_size=1000, embed_size=128, n_layers=2, n_heads=4, max_length=256)\n",
    "bert_model.summary()\n"
   ]
  },
  {
   "cell_type": "markdown",
   "metadata": {},
   "source": [
    "<div style=\"background-color:#f9f9f9; padding:20px; border:1px solid #ddd; border-radius:8px; font-family:Verdana;\">\n",
    "<h3 style='color:#2c3e50;'><strong>Section 3: Implementing Noised Tokens Prediction (NTP)</strong></h3>\n",
    "\n",
    "<p style='color:#2c3e50;'>In previous cell, you implemented BERT architecture. In main version of BERT, we use Masked Language Models (MLMs) and Next Sentence Prediction (NSP) as pretraining tasks. \n",
    "<p>\n",
    "In Masked Language Modeling, random tokens in a sentence are replaced with a special token (e.g., \"[MASK]\"). The model's task is to predict the original token based on the context provided by the other non-masked tokens in the input. This allows the model to develop a deep understanding of language structure and word relationships. \n",
    "<p>\n",
    "The Next Sentence Prediction task involves presenting the model with two sentences and requiring it to predict whether the second sentence follows the first in the original text. This helps the model to learn relationships between consecutive sentences, which is important for understanding the coherence and flow of paragraphs. \n",
    "<br>\n",
    "You can read more about BERT pretraining tasks in the original <a href=\"https://arxiv.org/pdf/1810.04805.pdf\">paper</a> or <a href=\"https://towardsdatascience.com/bert-explained-state-of-the-art-language-model-for-nlp-f8b21a9b6270\">here</a>.\n",
    "<p>\n",
    "In this assignment, however, we want to define a new task called <b>Noised Tokens Prediction (NTP)</b> and use it instead of MLMs and NSP tasks. In this task, we randomlely change tokens in the input sequence to get a noisy sequence to get it to the model and want the model to predict the original sequence. For example, if the input sequence is \"ABCDEF\", with some probability, it is changed into \"ABXDEF\"; so the input of the model would be \"ABXDEF\" and the output should be \"ABCDEF\". You need to implement this task in the following cell. Feel free to use numpy library for randomization.</p>\n",
    "</p>\n",
    "\n",
    "</div>"
   ]
  },
  {
   "cell_type": "code",
   "execution_count": 11,
   "metadata": {},
   "outputs": [],
   "source": [
    "import numpy as np\n",
    "\n",
    "def noise_tokens(encoded_seqs, p_seq_noise=0.15, n_tokens=vocab_size):\n",
    "    noisy_encoded_seqs = np.copy(encoded_seqs)\n",
    "    \n",
    "    for seq in noisy_encoded_seqs:\n",
    "        for i in range(len(seq)):\n",
    "            # Check for special tokens (assuming they are 22, 23, 24 for 'START', 'END', 'PAD' respectively)\n",
    "            if seq[i] in [22, 23, 24]:\n",
    "                continue\n",
    "            if np.random.rand() < p_seq_noise:\n",
    "                # Replace with a random token, avoiding special tokens\n",
    "                seq[i] = np.random.choice([j for j in range(n_tokens) if j not in [22, 23, 24]])\n",
    "\n",
    "    return noisy_encoded_seqs, encoded_seqs\n"
   ]
  },
  {
   "cell_type": "markdown",
   "metadata": {},
   "source": [
    "<div style=\"background-color:#f9f9f9; padding:20px; border:1px solid #ddd; border-radius:8px; font-family:Verdana;\">\n",
    "\n",
    "<h3 style='color:#2c3e50;'><strong>Section 4: Pretraining the Model</strong></h3>\n",
    "\n",
    "<p style='color:#2c3e50;'>Create an instance of your BERT model and train it on pretrain data.</p>\n",
    "\n",
    "</div>"
   ]
  },
  {
   "cell_type": "code",
   "execution_count": 12,
   "metadata": {},
   "outputs": [],
   "source": [
    "def pretraining(model, noisy_pretrain_seq, pretrain_seq, epochs, batch_size, lr=1e-2):\n",
    "    # Define the loss function and optimizer\n",
    "    loss_function = tf.keras.losses.SparseCategoricalCrossentropy(from_logits=True)\n",
    "    optimizer = tf.keras.optimizers.Adam(learning_rate=lr)\n",
    "\n",
    "    # Compile the model\n",
    "    model.compile(optimizer=optimizer, loss=loss_function)\n",
    "\n",
    "    # Fit the model\n",
    "    model.fit(noisy_pretrain_seq, pretrain_seq, epochs=epochs, batch_size=batch_size)\n",
    "\n",
    "    return model"
   ]
  },
  {
   "cell_type": "code",
   "execution_count": 13,
   "metadata": {},
   "outputs": [],
   "source": [
    "import numpy as np\n",
    "\n",
    "def adjust_sequence_length(sequences, max_length=256):\n",
    "\n",
    "    adjusted_sequences = np.zeros((sequences.shape[0], max_length), dtype=np.int32)\n",
    "    for i, seq in enumerate(sequences):\n",
    "        length = min(len(seq), max_length)\n",
    "        adjusted_sequences[i, :length] = seq[:length]\n",
    "    return adjusted_sequences\n",
    "\n",
    "\n",
    "pretrain_seq_adjusted = adjust_sequence_length(pretrain_seq, max_length=256)\n"
   ]
  },
  {
   "cell_type": "code",
   "execution_count": 14,
   "metadata": {
    "scrolled": true
   },
   "outputs": [
    {
     "name": "stdout",
     "output_type": "stream",
     "text": [
      "Model: \"model_1\"\n",
      "__________________________________________________________________________________________________\n",
      " Layer (type)                Output Shape                 Param #   Connected to                  \n",
      "==================================================================================================\n",
      " input_2 (InputLayer)        [(None, 256)]                0         []                            \n",
      "                                                                                                  \n",
      " embedding_1 (Embedding)     (None, 256, 128)             3328      ['input_2[0][0]']             \n",
      "                                                                                                  \n",
      " multi_self_attention_head_  (None, None, 128)            65536     ['embedding_1[0][0]']         \n",
      " 2 (multiSelfAttentionHead)                                                                       \n",
      "                                                                                                  \n",
      " tf.__operators__.add_4 (TF  (None, 256, 128)             0         ['multi_self_attention_head_2[\n",
      " OpLambda)                                                          0][0]',                       \n",
      "                                                                     'embedding_1[0][0]']         \n",
      "                                                                                                  \n",
      " layer_normalization_4 (Lay  (None, 256, 128)             256       ['tf.__operators__.add_4[0][0]\n",
      " erNormalization)                                                   ']                            \n",
      "                                                                                                  \n",
      " dense_5 (Dense)             (None, 256, 128)             16512     ['layer_normalization_4[0][0]'\n",
      "                                                                    ]                             \n",
      "                                                                                                  \n",
      " dense_6 (Dense)             (None, 256, 128)             16512     ['dense_5[0][0]']             \n",
      "                                                                                                  \n",
      " tf.__operators__.add_5 (TF  (None, 256, 128)             0         ['dense_6[0][0]',             \n",
      " OpLambda)                                                           'layer_normalization_4[0][0]'\n",
      "                                                                    ]                             \n",
      "                                                                                                  \n",
      " layer_normalization_5 (Lay  (None, 256, 128)             256       ['tf.__operators__.add_5[0][0]\n",
      " erNormalization)                                                   ']                            \n",
      "                                                                                                  \n",
      " multi_self_attention_head_  (None, None, 128)            65536     ['layer_normalization_5[0][0]'\n",
      " 3 (multiSelfAttentionHead)                                         ]                             \n",
      "                                                                                                  \n",
      " tf.__operators__.add_6 (TF  (None, 256, 128)             0         ['multi_self_attention_head_3[\n",
      " OpLambda)                                                          0][0]',                       \n",
      "                                                                     'layer_normalization_5[0][0]'\n",
      "                                                                    ]                             \n",
      "                                                                                                  \n",
      " layer_normalization_6 (Lay  (None, 256, 128)             256       ['tf.__operators__.add_6[0][0]\n",
      " erNormalization)                                                   ']                            \n",
      "                                                                                                  \n",
      " dense_7 (Dense)             (None, 256, 128)             16512     ['layer_normalization_6[0][0]'\n",
      "                                                                    ]                             \n",
      "                                                                                                  \n",
      " dense_8 (Dense)             (None, 256, 128)             16512     ['dense_7[0][0]']             \n",
      "                                                                                                  \n",
      " tf.__operators__.add_7 (TF  (None, 256, 128)             0         ['dense_8[0][0]',             \n",
      " OpLambda)                                                           'layer_normalization_6[0][0]'\n",
      "                                                                    ]                             \n",
      "                                                                                                  \n",
      " layer_normalization_7 (Lay  (None, 256, 128)             256       ['tf.__operators__.add_7[0][0]\n",
      " erNormalization)                                                   ']                            \n",
      "                                                                                                  \n",
      " dense_9 (Dense)             (None, 256, 26)              3354      ['layer_normalization_7[0][0]'\n",
      "                                                                    ]                             \n",
      "                                                                                                  \n",
      "==================================================================================================\n",
      "Total params: 204826 (800.10 KB)\n",
      "Trainable params: 204826 (800.10 KB)\n",
      "Non-trainable params: 0 (0.00 Byte)\n",
      "__________________________________________________________________________________________________\n",
      "Epoch 1/10\n"
     ]
    },
    {
     "name": "stderr",
     "output_type": "stream",
     "text": [
      "C:\\Users\\srina\\anaconda3\\lib\\site-packages\\keras\\src\\backend.py:5729: UserWarning: \"`sparse_categorical_crossentropy` received `from_logits=True`, but the `output` argument was produced by a Softmax activation and thus does not represent logits. Was this intended?\n",
      "  output, from_logits = _get_logits(\n"
     ]
    },
    {
     "name": "stdout",
     "output_type": "stream",
     "text": [
      "938/938 [==============================] - 1067s 1s/step - loss: 0.7164\n",
      "Epoch 2/10\n",
      "938/938 [==============================] - 1064s 1s/step - loss: 2.0366\n",
      "Epoch 3/10\n",
      "938/938 [==============================] - 1057s 1s/step - loss: 2.5675\n",
      "Epoch 4/10\n",
      "938/938 [==============================] - 1056s 1s/step - loss: 2.5266\n",
      "Epoch 5/10\n",
      "938/938 [==============================] - 1070s 1s/step - loss: 2.5588\n",
      "Epoch 6/10\n",
      "938/938 [==============================] - 1063s 1s/step - loss: 2.5167\n",
      "Epoch 7/10\n",
      "938/938 [==============================] - 1073s 1s/step - loss: 2.5143\n",
      "Epoch 8/10\n",
      "938/938 [==============================] - 1100s 1s/step - loss: 2.6119\n",
      "Epoch 9/10\n",
      "938/938 [==============================] - 1080s 1s/step - loss: 2.7748\n",
      "Epoch 10/10\n",
      "938/938 [==============================] - 1106s 1s/step - loss: 2.7725\n"
     ]
    }
   ],
   "source": [
    "# please don't change this cell and don't add any print statements to this cell. Run it without changes.\n",
    "# this cell is for training the model on the pretrain data.\n",
    "\n",
    "model = BERT(vocab_size=vocab_size, embed_size=128, n_layers=2, n_heads=4, max_length=max_length)\n",
    "model.summary()\n",
    "\n",
    "noisy_pretrain_seq, pretrain_seq = noise_tokens(pretrain_seq_adjusted)\n",
    "pretrained_model = pretraining(model, noisy_pretrain_seq, pretrain_seq, epochs=epochs, batch_size=batch_size)"
   ]
  },
  {
   "cell_type": "code",
   "execution_count": 15,
   "metadata": {},
   "outputs": [],
   "source": [
    "# please don't change this cell and don't add any print statements to this cell. Run it without changes.\n",
    "# this cell is for saving the pretrained model.\n",
    "\n",
    "if not os.path.exists('model'):\n",
    "    os.makedirs('model')    \n",
    "pretrained_model.save_weights('model/model_pretrained.h5')"
   ]
  },
  {
   "cell_type": "markdown",
   "metadata": {
    "pycharm": {
     "name": "#%% md\n"
    }
   },
   "source": [
    "<div style=\"background-color:#f9f9f9; padding:20px; border:1px solid #ddd; border-radius:8px; font-family:Verdana;\">\n",
    "\n",
    "<h2 style='color:#2c3e50;'><strong>Section 5: Fine-tuning Large Language Models</strong></h2>\n",
    "\n",
    "<hr style=\"border-top: 2px solid #3498db; margin-bottom: 20px; margin-top: 20px;\">\n",
    "\n",
    "<ul style='color:#2c3e50;'>\n",
    "    <li>Prepare the data for fine-tuning: Tokenize protein sequences in both train and test data of signal peptides detection and structure classification tasks. Then, convert them to numpy arrays. (like what you did in section 1 for pretraining data)</li>\n",
    "    <li>Fine-tune the model on tasks signal peptides detection (binary classification) and structure classification (multi-class classification). By fine-tuning, we mean the process of adjusting the parameters of the pre-trained model to suit a specific task or dataset. Through this process, we can enhance the model's ability to perform a specialized task more accurately.</li>\n",
    "    <li>For each task, you need to call the pretrained model and add a classification layer on top of it. Then, you need to freeze the pretrained model and train the classification layer for 10 epochs. After that, you need to unfreeze the pretrained model and train the whole model for 5 epochs.</li>\n",
    "    </li>\n",
    "</ul>\n",
    "\n",
    "</div>"
   ]
  },
  {
   "cell_type": "code",
   "execution_count": 16,
   "metadata": {},
   "outputs": [],
   "source": [
    "# please don't change this cell and don't add any print statements to this cell. Run it without changes.\n",
    "# this cell is for connecting the layers of the pretrained model to the layers of the finetuned model. \n",
    "# the output of the last layer of the pretrained model is considered as the input of the finetuned model. \n",
    "\n",
    "def concat_layers_for_finetuning(model):\n",
    "    # Create a list to hold the layers to be concatenated\n",
    "    return tf.keras.Model(inputs=model.inputs, outputs=model.layers[-1].output)"
   ]
  },
  {
   "cell_type": "code",
   "execution_count": 17,
   "metadata": {},
   "outputs": [],
   "source": [
    "# please don't change this cell\n",
    "# this cell is for loading the pretrained model and keep the output of the last layer to be used for finetuning.\n",
    "\n",
    "model_SP = BERT(vocab_size=vocab_size, embed_size=embed_size, n_layers=n_layers, n_heads=n_heads, max_length=max_length)\n",
    "model_SP.load_weights('model/model_pretrained.h5')\n",
    "concat_model_SP = concat_layers_for_finetuning(model_SP)"
   ]
  },
  {
   "cell_type": "code",
   "execution_count": 18,
   "metadata": {},
   "outputs": [
    {
     "data": {
      "text/plain": [
       "array([[22, 10,  8, ..., 16, 14,  7],\n",
       "       [22, 10,  4, ..., 17,  5, 12],\n",
       "       [22, 10, 16, ...,  2, 16,  9],\n",
       "       ...,\n",
       "       [22, 10, 16, ..., 13, 20, 16],\n",
       "       [22,  2,  7, ..., 24, 24, 24],\n",
       "       [22, 10,  0, ...,  0,  8, 11]])"
      ]
     },
     "execution_count": 18,
     "metadata": {},
     "output_type": "execute_result"
    }
   ],
   "source": [
    "pretrain_seq_adjusted"
   ]
  },
  {
   "cell_type": "code",
   "execution_count": 20,
   "metadata": {},
   "outputs": [
    {
     "name": "stdout",
     "output_type": "stream",
     "text": [
      "Epoch 1/10\n",
      "490/490 [==============================] - 131s 265ms/step - loss: 1.5908 - accuracy: 0.3313\n",
      "Epoch 2/10\n",
      "490/490 [==============================] - 166s 338ms/step - loss: 1.5214 - accuracy: 0.3723\n",
      "Epoch 3/10\n",
      "490/490 [==============================] - 162s 330ms/step - loss: 1.4964 - accuracy: 0.3756\n",
      "Epoch 4/10\n",
      "490/490 [==============================] - 143s 293ms/step - loss: 1.4795 - accuracy: 0.3835\n",
      "Epoch 5/10\n",
      "490/490 [==============================] - 135s 276ms/step - loss: 1.4677 - accuracy: 0.3957\n",
      "Epoch 6/10\n",
      "490/490 [==============================] - 125s 256ms/step - loss: 1.4583 - accuracy: 0.3952\n",
      "Epoch 7/10\n",
      "490/490 [==============================] - 163s 333ms/step - loss: 1.4511 - accuracy: 0.4003\n",
      "Epoch 8/10\n",
      "490/490 [==============================] - 237s 484ms/step - loss: 1.4444 - accuracy: 0.4064\n",
      "Epoch 9/10\n",
      "490/490 [==============================] - 237s 485ms/step - loss: 1.4394 - accuracy: 0.4043\n",
      "Epoch 10/10\n",
      "490/490 [==============================] - 250s 511ms/step - loss: 1.4352 - accuracy: 0.4017\n",
      "Epoch 1/5\n",
      "490/490 [==============================] - 257s 524ms/step - loss: 1.4321 - accuracy: 0.4063\n",
      "Epoch 2/5\n",
      "490/490 [==============================] - 251s 513ms/step - loss: 1.4292 - accuracy: 0.4032\n",
      "Epoch 3/5\n",
      "490/490 [==============================] - 243s 497ms/step - loss: 1.4266 - accuracy: 0.4073\n",
      "Epoch 4/5\n",
      "490/490 [==============================] - 252s 515ms/step - loss: 1.4239 - accuracy: 0.4096\n",
      "Epoch 5/5\n",
      "490/490 [==============================] - 265s 542ms/step - loss: 1.4217 - accuracy: 0.4092\n"
     ]
    },
    {
     "name": "stderr",
     "output_type": "stream",
     "text": [
      "C:\\Users\\srina\\anaconda3\\lib\\site-packages\\keras\\src\\engine\\training.py:3079: UserWarning: You are saving your model as an HDF5 file via `model.save()`. This file format is considered legacy. We recommend using instead the native Keras format, e.g. `model.save('my_model.keras')`.\n",
      "  saving_api.save_model(\n"
     ]
    }
   ],
   "source": [
    "from sklearn.preprocessing import LabelEncoder\n",
    "\n",
    "def tokenize_seq(seq, max_length):\n",
    "    '''\n",
    "    Tokenize a sequence into a list of integers.\n",
    "    assign each amino acid to a unique integer and add <START>, <END>, <PAD>, <OTHER> tokens to the vocabulary.\n",
    "    <START> token is added to the beginning of each sequence\n",
    "    <END> token is added to the end of each sequence\n",
    "    <PAD> token is used to pad sequences to the same length (max_length)\n",
    "    <OTHER> token is used to represent all amino acids that are not in the vocabulary\n",
    "    \n",
    "    Args:\n",
    "        seq (str): protein sequence\n",
    "        max_length (int): maximum length of the sequence\n",
    "    Returns:\n",
    "        tokenized_seq: list of integers representing the sequence\n",
    "    '''\n",
    "    # YOUR CODE HERE\n",
    "    amino_acid_map = {\n",
    "        'A': 0, 'C': 1, 'D': 2, 'E': 3, 'F': 4, 'G': 5, 'H': 6, 'I': 7, 'K': 8, \n",
    "        'L': 9, 'M': 10, 'N': 11, 'P': 12, 'Q': 13, 'R': 14, 'S': 15, 'T': 16, \n",
    "        'V': 17, 'W': 18, 'X': 19, 'Y': 20, 'OTHER': 21, 'START': 22, 'END': 23, 'PAD': 24\n",
    "    }\n",
    "\n",
    "    # Convert the sequence to a list of amino acids\n",
    "    amino_acids = list(seq)\n",
    "\n",
    "    # Start with the START token\n",
    "    tokenized_seq = [amino_acid_map['START']]\n",
    "\n",
    "    # Convert each amino acid to its corresponding token\n",
    "    for aa in amino_acids:\n",
    "        tokenized_seq.append(amino_acid_map.get(aa, amino_acid_map['OTHER']))\n",
    "\n",
    "    # Add the END token\n",
    "    tokenized_seq.append(amino_acid_map['END'])\n",
    "\n",
    "    # Pad the sequence to max_length with PAD tokens\n",
    "    while len(tokenized_seq) < max_length:\n",
    "        tokenized_seq.append(amino_acid_map['PAD'])\n",
    "\n",
    "    # Truncate the sequence if it exceeds max_length\n",
    "    return tokenized_seq[:max_length]\n",
    "\n",
    "def fine_tune_peptide_detection(concat_model, sequences, labels, epochs, batch_size, lr):\n",
    "    tokenized_seqs = [tokenize_seq(seq, max_length=256) for seq in sequences]\n",
    "    tokenized_sequences = np.array(tokenized_seqs) \n",
    "    \n",
    "    label_encoder = LabelEncoder()\n",
    "    labels_encoded = label_encoder.fit_transform(labels)\n",
    "\n",
    "    n_classes = len(np.unique(labels_encoded))\n",
    "\n",
    "    for layer in concat_model.layers:\n",
    "        layer.trainable = False\n",
    "\n",
    "    pooled_output = tf.keras.layers.GlobalAveragePooling1D()(concat_model.output)\n",
    "    output = tf.keras.layers.Dense(n_classes, activation='softmax')(pooled_output)\n",
    "\n",
    "    fine_tuned_model = tf.keras.Model(inputs=concat_model.inputs, outputs=output)\n",
    "\n",
    "    loss_function = tf.keras.losses.SparseCategoricalCrossentropy(from_logits=False)\n",
    "    optimizer = tf.keras.optimizers.Adam(learning_rate=lr)\n",
    "\n",
    "    fine_tuned_model.compile(optimizer=optimizer, loss=loss_function, metrics=['accuracy'])\n",
    "\n",
    "    fine_tuned_model.fit(tokenized_sequences, labels_encoded, epochs=10, batch_size=batch_size, verbose=1)\n",
    "\n",
    "    for layer in fine_tuned_model.layers:\n",
    "        layer.trainable = True\n",
    "\n",
    "    fine_tuned_model.fit(tokenized_sequences, labels_encoded, epochs=5, batch_size=batch_size, verbose=1)\n",
    "\n",
    "    fine_tuned_model.save('model/model_finetuned_SP.h5')\n",
    "\n",
    "    return fine_tuned_model\n",
    "\n",
    "\n",
    "fine_tuned_model = fine_tune_peptide_detection(concat_model_SP, scop_train_data['seq'], scop_train_data['label'], epochs, batch_size, lr)\n"
   ]
  },
  {
   "cell_type": "code",
   "execution_count": 21,
   "metadata": {},
   "outputs": [],
   "source": [
    "# please don't change this cell\n",
    "# this cell is for loading the pretrained model and keep the output of the last layer to be used for finetuning.\n",
    "\n",
    "model_SC = BERT(vocab_size=vocab_size, embed_size=128, n_layers=2, n_heads=4, max_length=max_length)\n",
    "model_SC.load_weights('model/model_pretrained.h5')\n",
    "model_concat_SC = concat_layers_for_finetuning(model_SC)"
   ]
  },
  {
   "cell_type": "code",
   "execution_count": 22,
   "metadata": {},
   "outputs": [
    {
     "name": "stdout",
     "output_type": "stream",
     "text": [
      "Model: \"model_7\"\n",
      "__________________________________________________________________________________________________\n",
      " Layer (type)                Output Shape                 Param #   Connected to                  \n",
      "==================================================================================================\n",
      " input_4 (InputLayer)        [(None, 256)]                0         []                            \n",
      "                                                                                                  \n",
      " embedding_3 (Embedding)     (None, 256, 128)             3328      ['input_4[0][0]']             \n",
      "                                                                                                  \n",
      " multi_self_attention_head_  (None, None, 128)            65536     ['embedding_3[0][0]']         \n",
      " 6 (multiSelfAttentionHead)                                                                       \n",
      "                                                                                                  \n",
      " tf.__operators__.add_12 (T  (None, 256, 128)             0         ['multi_self_attention_head_6[\n",
      " FOpLambda)                                                         0][0]',                       \n",
      "                                                                     'embedding_3[0][0]']         \n",
      "                                                                                                  \n",
      " layer_normalization_12 (La  (None, 256, 128)             256       ['tf.__operators__.add_12[0][0\n",
      " yerNormalization)                                                  ]']                           \n",
      "                                                                                                  \n",
      " dense_16 (Dense)            (None, 256, 128)             16512     ['layer_normalization_12[0][0]\n",
      "                                                                    ']                            \n",
      "                                                                                                  \n",
      " dense_17 (Dense)            (None, 256, 128)             16512     ['dense_16[0][0]']            \n",
      "                                                                                                  \n",
      " tf.__operators__.add_13 (T  (None, 256, 128)             0         ['dense_17[0][0]',            \n",
      " FOpLambda)                                                          'layer_normalization_12[0][0]\n",
      "                                                                    ']                            \n",
      "                                                                                                  \n",
      " layer_normalization_13 (La  (None, 256, 128)             256       ['tf.__operators__.add_13[0][0\n",
      " yerNormalization)                                                  ]']                           \n",
      "                                                                                                  \n",
      " multi_self_attention_head_  (None, None, 128)            65536     ['layer_normalization_13[0][0]\n",
      " 7 (multiSelfAttentionHead)                                         ']                            \n",
      "                                                                                                  \n",
      " tf.__operators__.add_14 (T  (None, 256, 128)             0         ['multi_self_attention_head_7[\n",
      " FOpLambda)                                                         0][0]',                       \n",
      "                                                                     'layer_normalization_13[0][0]\n",
      "                                                                    ']                            \n",
      "                                                                                                  \n",
      " layer_normalization_14 (La  (None, 256, 128)             256       ['tf.__operators__.add_14[0][0\n",
      " yerNormalization)                                                  ]']                           \n",
      "                                                                                                  \n",
      " dense_18 (Dense)            (None, 256, 128)             16512     ['layer_normalization_14[0][0]\n",
      "                                                                    ']                            \n",
      "                                                                                                  \n",
      " dense_19 (Dense)            (None, 256, 128)             16512     ['dense_18[0][0]']            \n",
      "                                                                                                  \n",
      " tf.__operators__.add_15 (T  (None, 256, 128)             0         ['dense_19[0][0]',            \n",
      " FOpLambda)                                                          'layer_normalization_14[0][0]\n",
      "                                                                    ']                            \n",
      "                                                                                                  \n",
      " layer_normalization_15 (La  (None, 256, 128)             256       ['tf.__operators__.add_15[0][0\n",
      " yerNormalization)                                                  ]']                           \n",
      "                                                                                                  \n",
      " dense_20 (Dense)            (None, 256, 26)              3354      ['layer_normalization_15[0][0]\n",
      "                                                                    ']                            \n",
      "                                                                                                  \n",
      " global_average_pooling1d_1  (None, 26)                   0         ['dense_20[0][0]']            \n",
      "  (GlobalAveragePooling1D)                                                                        \n",
      "                                                                                                  \n",
      " dense_21 (Dense)            (None, 7)                    189       ['global_average_pooling1d_1[0\n",
      "                                                                    ][0]']                        \n",
      "                                                                                                  \n",
      "==================================================================================================\n",
      "Total params: 205015 (800.84 KB)\n",
      "Trainable params: 189 (756.00 Byte)\n",
      "Non-trainable params: 204826 (800.10 KB)\n",
      "__________________________________________________________________________________________________\n",
      "Epoch 1/10\n",
      "490/490 [==============================] - 234s 473ms/step - loss: 1.5937 - accuracy: 0.3346\n",
      "Epoch 2/10\n",
      "490/490 [==============================] - 115s 234ms/step - loss: 1.5206 - accuracy: 0.3673\n",
      "Epoch 3/10\n",
      "490/490 [==============================] - 117s 239ms/step - loss: 1.4954 - accuracy: 0.3770\n",
      "Epoch 4/10\n",
      "490/490 [==============================] - 127s 259ms/step - loss: 1.4787 - accuracy: 0.3835\n",
      "Epoch 5/10\n",
      "490/490 [==============================] - 122s 250ms/step - loss: 1.4664 - accuracy: 0.3892\n",
      "Epoch 6/10\n",
      "490/490 [==============================] - 123s 251ms/step - loss: 1.4570 - accuracy: 0.4006\n",
      "Epoch 7/10\n",
      "490/490 [==============================] - 125s 254ms/step - loss: 1.4498 - accuracy: 0.4003\n",
      "Epoch 8/10\n",
      "490/490 [==============================] - 126s 258ms/step - loss: 1.4434 - accuracy: 0.4029\n",
      "Epoch 9/10\n",
      "490/490 [==============================] - 121s 248ms/step - loss: 1.4388 - accuracy: 0.4067\n",
      "Epoch 10/10\n",
      "490/490 [==============================] - 127s 260ms/step - loss: 1.4347 - accuracy: 0.4057\n",
      "Epoch 1/5\n",
      "490/490 [==============================] - 121s 247ms/step - loss: 1.4314 - accuracy: 0.4039\n",
      "Epoch 2/5\n",
      "490/490 [==============================] - 121s 247ms/step - loss: 1.4286 - accuracy: 0.4064\n",
      "Epoch 3/5\n",
      "490/490 [==============================] - 126s 258ms/step - loss: 1.4257 - accuracy: 0.4082\n",
      "Epoch 4/5\n",
      "490/490 [==============================] - 123s 252ms/step - loss: 1.4236 - accuracy: 0.4048\n",
      "Epoch 5/5\n",
      "490/490 [==============================] - 122s 249ms/step - loss: 1.4223 - accuracy: 0.4078\n"
     ]
    },
    {
     "name": "stderr",
     "output_type": "stream",
     "text": [
      "C:\\Users\\srina\\anaconda3\\lib\\site-packages\\keras\\src\\engine\\training.py:3079: UserWarning: You are saving your model as an HDF5 file via `model.save()`. This file format is considered legacy. We recommend using instead the native Keras format, e.g. `model.save('my_model.keras')`.\n",
      "  saving_api.save_model(\n"
     ]
    }
   ],
   "source": [
    "# Fill this function to fine-tune the model_concat_SC on structure classification task (multi-class classification)\n",
    "'''\n",
    "Fine-tune the model on peptide detection task.\n",
    "Parameters:\n",
    "    epochs (int): number of epochs\n",
    "    batch_size (int): batch size \n",
    "    lr (float): learning rate\n",
    "    n_classes (int): number of classes\n",
    "\n",
    "What you need to do in this cell:\n",
    "    1. Tokenize the sequences in scop_train_data\n",
    "    2. Make the labels in scop_train_data as a numpy array\n",
    "    3. Make the layers of the model_concat_SC non-trainable\n",
    "    4. Add a dense layer with a proper activation to the end of the model_concat_SC\n",
    "    5. Define a new model with the input of model_concat_SC and the output of the dense layer\n",
    "    6. Define the loss function and optimizer\n",
    "    7. Compile the model with the loss function and optimizer\n",
    "    8. Fit the model on the training data for 10 epochs\n",
    "    9. Make all layers of the model trainable\n",
    "    10. Fit the model on the training data for 5 epochs\n",
    "    11. Save the new model in the model directory with the name model_finetuned_SC.h5\n",
    "'''\n",
    "\n",
    "# YOUR CODE HERE\n",
    "\n",
    "import numpy as np\n",
    "from sklearn.preprocessing import LabelEncoder\n",
    "import tensorflow as tf\n",
    "\n",
    "\n",
    "def fine_tune_structure_classification(concat_model, sequences, labels, epochs, batch_size, lr):\n",
    "    tokenized_sequences = np.array([tokenize_seq(seq, max_length=256) for seq in sequences])\n",
    "\n",
    "    label_encoder = LabelEncoder()\n",
    "    labels_encoded = label_encoder.fit_transform(labels)\n",
    "\n",
    "    n_classes = len(np.unique(labels_encoded))\n",
    "\n",
    "    for layer in concat_model.layers:\n",
    "        layer.trainable = False\n",
    "\n",
    "    pooled_output = tf.keras.layers.GlobalAveragePooling1D()(concat_model.output)\n",
    "    output = tf.keras.layers.Dense(n_classes, activation='softmax')(pooled_output)\n",
    "\n",
    "    fine_tuned_model = tf.keras.Model(inputs=concat_model.inputs, outputs=output)\n",
    "\n",
    "    loss_function = tf.keras.losses.SparseCategoricalCrossentropy(from_logits=False)\n",
    "    optimizer = tf.keras.optimizers.Adam(learning_rate=lr)\n",
    "\n",
    "    fine_tuned_model.compile(optimizer=optimizer, loss=loss_function, metrics=['accuracy'])\n",
    "\n",
    "    fine_tuned_model.summary()\n",
    "\n",
    "    fine_tuned_model.fit(tokenized_sequences, labels_encoded, epochs=10, batch_size=batch_size, verbose=1)\n",
    "\n",
    "    for layer in fine_tuned_model.layers:\n",
    "        layer.trainable = True\n",
    "\n",
    "    fine_tuned_model.fit(tokenized_sequences, labels_encoded, epochs=5, batch_size=batch_size, verbose=1)\n",
    "\n",
    "    fine_tuned_model.save('model/model_finetuned_SC.h5')\n",
    "\n",
    "    return fine_tuned_model\n",
    "\n",
    "fine_tuned_model_SC = fine_tune_structure_classification(model_concat_SC, scop_train_data['seq'], scop_train_data['label'], epochs, batch_size, lr)\n"
   ]
  },
  {
   "cell_type": "markdown",
   "metadata": {
    "pycharm": {
     "name": "#%% md\n"
    }
   },
   "source": [
    "<div style=\"background-color:#f9f9f9; padding:20px; border:1px solid #ddd; border-radius:8px; font-family:Verdana;\">\n",
    "\n",
    "<h2 style='color:#2c3e50;'><strong>Section 6: Prediction and Evaluation</strong></h2>\n",
    "\n",
    "<hr style=\"border-top: 2px solid #3498db; margin-bottom: 20px; margin-top: 20px;\">\n",
    "\n",
    "<ul style='color:#2c3e50;'>\n",
    "    <li>After finetuning, do <b>prediction</b> task on test data. Then, report <b>f1 score, precision, recall, and accuracy </b> for both datasets.\n",
    "    You can read more about these metrics <a href=\"https://scikit-learn.org/stable/modules/model_evaluation.html#classification-metrics\">here</a>.</li>\n",
    "</ul>\n",
    "\n",
    "</div>"
   ]
  },
  {
   "cell_type": "markdown",
   "metadata": {},
   "source": [
    "<div style=\"background-color:#f9f9f9; padding:20px; border:1px solid #ddd; border-radius:8px; font-family:Verdana;\">\n",
    "\n",
    "<h3 style='color:#2c3e50;'><strong>Task 6.1: Prediction </strong></h3>\n",
    "\n",
    "<p style='color:#2c3e50;'> Make prediction on both test datasets.</p>\n",
    "\n",
    "</div>"
   ]
  },
  {
   "cell_type": "code",
   "execution_count": 43,
   "metadata": {},
   "outputs": [
    {
     "name": "stdout",
     "output_type": "stream",
     "text": [
      "130/130 [==============================] - 61s 468ms/step\n"
     ]
    }
   ],
   "source": [
    "# testing on scop data ; save the predicted labels, true labels and sequences to a csv file\n",
    "# fill this cell to create y_pred_SC using the model_finetuned_SC\n",
    "\n",
    "\n",
    "# YOUR CODE HERE\n",
    "\n",
    "test_sequences = [tokenize_seq(seq, max_length=256) for seq in signalp_test_data['seq']]\n",
    "\n",
    "# Tokenize the test sequences\n",
    "tokenized_test_seqs = [tokenize_seq(seq, max_length=256) for seq in test_sequences]\n",
    "\n",
    "# Predict labels using the fine-tuned model for signal peptide detection\n",
    "predicted_labels_SP = fine_tuned_model.predict(np.array(tokenized_test_seqs))\n",
    "\n",
    "# Convert predicted labels to class indices\n",
    "y_pred_SP = np.argmax(predicted_labels_SP, axis=1)\n",
    "\n",
    "# save the predicted labels, true labels and sequences to a csv file\n",
    "signalp_test_data['pred_label'] = y_pred_SP\n",
    "signalp_test_data.to_csv('data/signal_peptide/signalp_pred.csv', index=False)"
   ]
  },
  {
   "cell_type": "code",
   "execution_count": 44,
   "metadata": {},
   "outputs": [
    {
     "name": "stdout",
     "output_type": "stream",
     "text": [
      "123/123 [==============================] - 57s 463ms/step\n"
     ]
    }
   ],
   "source": [
    "# testing on scop data ; save the predicted labels, true labels and sequences to a csv file\n",
    "# fill this cell to create y_pred_SC using the model_finetuned_SC\n",
    "\n",
    "\n",
    "# YOUR CODE HERE\n",
    "\n",
    "test_sequences = [tokenize_seq(seq, max_length=256) for seq in scop_test_data['seq']]\n",
    "\n",
    "# Tokenize the test sequences\n",
    "tokenized_test_seqs = [tokenize_seq(seq, max_length=256) for seq in test_sequences]\n",
    "\n",
    "# Predict labels using the fine-tuned model for signal peptide detection\n",
    "predicted_labels_SC = fine_tuned_model.predict(np.array(tokenized_test_seqs))\n",
    "\n",
    "# Convert predicted labels to class indices\n",
    "y_pred_SC = np.argmax(predicted_labels_SC, axis=1)\n",
    "\n",
    "# save the predicted labels, true labels and sequences to a csv file\n",
    "scop_test_data['pred_label'] = y_pred_SC\n",
    "scop_test_data.to_csv('data/scop/scop_pred.csv', index=False)"
   ]
  },
  {
   "cell_type": "markdown",
   "metadata": {
    "pycharm": {
     "name": "#%% md\n"
    }
   },
   "source": [
    "<div style=\"background-color:#f9f9f9; padding:20px; border:1px solid #ddd; border-radius:8px; font-family:Verdana;\">\n",
    "\n",
    "<h3 style='color:#2c3e50;'><strong>Task 6.2: Evaluation</strong></h3>\n",
    "\n",
    "<p style='color:#2c3e50;'>Calculate F1 score, precision, recall and accuracy for both test datasets.</p>\n",
    "\n",
    "</div>"
   ]
  },
  {
   "cell_type": "code",
   "execution_count": 45,
   "metadata": {
    "pycharm": {
     "name": "#%%\n"
    }
   },
   "outputs": [
    {
     "name": "stdout",
     "output_type": "stream",
     "text": [
      "130/130 [==============================] - 63s 487ms/step\n",
      "Signal Peptides Detection - Accuracy: 0.5052986512524085, Precision: 0.21038908945046128, Recall: 0.15080506037952845, F1 Score: 0.17568246524870207\n"
     ]
    },
    {
     "name": "stderr",
     "output_type": "stream",
     "text": [
      "C:\\Users\\srina\\anaconda3\\lib\\site-packages\\sklearn\\metrics\\_classification.py:1344: UndefinedMetricWarning: Precision is ill-defined and being set to 0.0 in labels with no predicted samples. Use `zero_division` parameter to control this behavior.\n",
      "  _warn_prf(average, modifier, msg_start, len(result))\n",
      "C:\\Users\\srina\\anaconda3\\lib\\site-packages\\sklearn\\metrics\\_classification.py:1344: UndefinedMetricWarning: Recall is ill-defined and being set to 0.0 in labels with no true samples. Use `zero_division` parameter to control this behavior.\n",
      "  _warn_prf(average, modifier, msg_start, len(result))\n"
     ]
    }
   ],
   "source": [
    "# Fill this cell to evaluate the performance of model_finetuned_SP on signal peptide test data\n",
    "# You can use sklearn library to calculate these metrics.\n",
    "\n",
    "# accuracy\n",
    "# precision\n",
    "# recall\n",
    "# f1-score\n",
    "\n",
    "# YOUR CODE HERE\n",
    "# Create a DataFrame to store the results\n",
    "from sklearn.metrics import accuracy_score, precision_score, recall_score, f1_score\n",
    "\n",
    "def evaluate_model(model, test_sequences, test_labels):\n",
    "    # Tokenize and encode test sequences\n",
    "    tokenized_test_seqs = np.array([tokenize_seq(seq, max_length=256) for seq in test_sequences])\n",
    "    \n",
    "    # Predictions\n",
    "    predictions = model.predict(tokenized_test_seqs)\n",
    "    predicted_labels = np.argmax(predictions, axis=1)\n",
    "\n",
    "    # Convert categorical test labels to numerical labels\n",
    "    label_encoder = LabelEncoder()\n",
    "    labels_encoded = label_encoder.fit_transform(test_labels)\n",
    "\n",
    "    # Calculate metrics\n",
    "    accuracy = accuracy_score(labels_encoded, predicted_labels)\n",
    "    precision = precision_score(labels_encoded, predicted_labels, average='macro')\n",
    "    recall = recall_score(labels_encoded, predicted_labels, average='macro')\n",
    "    f1 = f1_score(labels_encoded, predicted_labels, average='macro')\n",
    "\n",
    "    return accuracy, precision, recall, f1\n",
    "\n",
    "# Assuming signalp_test_data and scop_test_data are prepared with 'seq' and 'label'\n",
    "accuracy_SP, precision_SP, recall_SP, f1_SP = evaluate_model(fine_tuned_model, signalp_test_data['seq'], signalp_test_data['label'])\n",
    "\n",
    "print(\"Signal Peptides Detection - Accuracy: {}, Precision: {}, Recall: {}, F1 Score: {}\".format(accuracy_SP, precision_SP, recall_SP, f1_SP))\n",
    "\n"
   ]
  },
  {
   "cell_type": "code",
   "execution_count": 46,
   "metadata": {},
   "outputs": [
    {
     "name": "stdout",
     "output_type": "stream",
     "text": [
      "123/123 [==============================] - 58s 474ms/step\n",
      "Structure Classification - Accuracy: 0.4072940576383576, Precision: 0.2441422097979082, Recall: 0.2463604293693104, F1 Score: 0.22120497025820687\n"
     ]
    },
    {
     "name": "stderr",
     "output_type": "stream",
     "text": [
      "C:\\Users\\srina\\anaconda3\\lib\\site-packages\\sklearn\\metrics\\_classification.py:1344: UndefinedMetricWarning: Precision is ill-defined and being set to 0.0 in labels with no predicted samples. Use `zero_division` parameter to control this behavior.\n",
      "  _warn_prf(average, modifier, msg_start, len(result))\n"
     ]
    }
   ],
   "source": [
    "# Fill this cell to evaluate the performance of model_finetuned_SC on scop test data\n",
    "# You can use sklearn library to calculate these metrics.\n",
    "\n",
    "# accuracy\n",
    "# precision\n",
    "# recall\n",
    "# f1-score\n",
    "\n",
    "# YOUR CODE HERE\n",
    "\n",
    "accuracy_SC, precision_SC, recall_SC, f1_SC = evaluate_model(fine_tuned_model_SC, scop_test_data['seq'], scop_test_data['label'])\n",
    "print(\"Structure Classification - Accuracy: {}, Precision: {}, Recall: {}, F1 Score: {}\".format(accuracy_SC, precision_SC, recall_SC, f1_SC))\n"
   ]
  },
  {
   "cell_type": "markdown",
   "metadata": {
    "pycharm": {
     "name": "#%% md\n"
    }
   },
   "source": [
    "<div style=\"background-color:#f9f9f9; padding:20px; border:1px solid #ddd; border-radius:8px; font-family:Verdana;\">\n",
    "\n",
    "<h3 style='color:#2c3e50;'><strong>Section 7: Experimentation</strong></h3>\n",
    "\n",
    "<p style='color:#2c3e50;'>In the realm of natural language processing, one essential aspect is the reliance on vast datasets for training language models. With limited access to resources like GPUs or memory, we cannot pretrain our own model in this assignment on a huge dataset. Instead, we can use available pretrained models for protein sequences to check if a LLM can improve the performance. In this section of our study, we aim to utilize a pre-trained language model named <b>DistilProtBert</b>, which is accessible through the popular <b>Transformers</b> library. \n",
    "The key objective here is to employ this pre-trained DistilProtBert model and fine-tune it, just as we did in the previous section and compare the performance of the fine-tuned model with and without using pretrained model.\n",
    "Once you have completed the fine-tuning process, it is important to analyze and record any noticeable differences in the model's performance. This entails a comprehensive evaluation of how the fine-tuned model compares to its performance before fine-tuning. You should pay attention to various metrics such as accuracy, precision, recall, and F1-score, among others, to understand the overall impact of the fine-tuning process.\n",
    "In this section, you are free to use any libraries or pretrained models. However, the smallest pretrained model available for preotein sequences is DistilProtBert. \n",
    "</p>\n",
    "<p>\n",
    "You can read more about DistilProtBert <a href=\"https://huggingface.co/yarongef/DistilProtBert\">here</a>.\n",
    "<p> What you need to do in this section is: </p>\n",
    "<p>\n",
    "1. Select one of two finetuning tasks from data directory.</p>\n",
    "<p>\n",
    "2. Finetune DistilProtBert on the selected dataset and report the performance of the model on test data. You need to report <b>f1 score, precision, recall, and accuracy </b>. </p>\n",
    "<p>\n",
    "3. Train your classifier of previous step without using pretrained model (DisilProtBert). Report the performance of the model on test data. You need to report <b>f1 score, precision, recall, and accuracy </b>.\n",
    "</p>\n",
    "<p>\n",
    "4. Compare the performance of the two models and report your findings.\n",
    "</p>\n",
    "</div>"
   ]
  },
  {
   "cell_type": "code",
   "execution_count": null,
   "metadata": {},
   "outputs": [],
   "source": [
    "%pip install transformers[torch]\n",
    "%pip install accelerate -U"
   ]
  },
  {
   "cell_type": "code",
   "execution_count": null,
   "metadata": {},
   "outputs": [],
   "source": [
    "from transformers import DistilBertModel, DistilBertTokenizer, \\\n",
    "Trainer, TrainingArguments, DistilBertConfig\n",
    "import torch\n",
    "from torch.utils.data import Dataset, DataLoader\n",
    "import torch.nn.functional as F\n",
    "import pandas as pd\n",
    "import numpy as np\n",
    "import torch.nn as nn\n",
    "\n",
    "# Load the pretrained model and tokenizer from yarongef/DistilProtBert\n",
    "tokenizer = DistilBertTokenizer.from_pretrained(\"yarongef/DistilProtBert\", do_lower_case=False)\n",
    "model_distilprotbert = DistilBertModel.from_pretrained(\"yarongef/DistilProtBert\")"
   ]
  },
  {
   "cell_type": "code",
   "execution_count": null,
   "metadata": {},
   "outputs": [],
   "source": [
    "# Put your code here for fine-tuning and evaluating DistilProtBert on whichever task you choose\n",
    "\n",
    "# YOUR CODE HERE"
   ]
  },
  {
   "cell_type": "code",
   "execution_count": null,
   "metadata": {},
   "outputs": [],
   "source": [
    "# Put your code here for fine-tuning and evaluating the classifer without pretraining on whichever task you choose\n",
    "\n",
    "# YOUR CODE HERE\n"
   ]
  },
  {
   "cell_type": "code",
   "execution_count": null,
   "metadata": {},
   "outputs": [],
   "source": [
    "# Write your report here."
   ]
  },
  {
   "cell_type": "markdown",
   "metadata": {},
   "source": [
    "<h2>Submission</h2>\n",
    "\n",
    "<hr style=\"border-top: 5px solid orange; margin-top: 1px; margin-bottom: 1px\"></hr>\n",
    "\n",
    "<p style=\"text-align: justify;\">You need to submit a Jupyter Notebook (*.ipynb) file that contains your completed code and results.\n",
    "<p>\n",
    "Your answers to sections 1-6 will be evaluated based on the correctness of your implementation. Your answer to section 7 will be evaluated based on the correctness of your implementation, the results you report, and the quality of your analysis.\n",
    "\n",
    "<span>The file name should be in <strong>FirstName_LastName</strong> format</span>.</p>\n",
    "<p style=\"text-align: justify;\"><span>DO NOT INCLUDE EXTRA FILES, SUCH AS THE INPUT DATASETS</span>, in your submission;</p>\n",
    "<p style=\"text-align: justify;\">Please download your assignment after submission and make sure it is not corrupted or empty! We will not be responsible for corrupted submissions and will not take a resubmission after the deadline.</p>"
   ]
  },
  {
   "cell_type": "markdown",
   "metadata": {},
   "source": [
    "Need Help?\n",
    "If you need help with this assignment, please get in touch with TAs via their emails, or go to their office hours.\n",
    "You are highly encouraged to ask your question on the designated channel for Assignment o on Microsoft Teams (not necessarily monitored by the instructor/TAs). Feel free to help other students with general questions. However, DO NOT share your solution.<hr style=\"border-top: 5px solid orange; margin-top: 1px; margin-bottom: 1px\"></hr>"
   ]
  }
 ],
 "metadata": {
  "kernelspec": {
   "display_name": "Python 3 (ipykernel)",
   "language": "python",
   "name": "python3"
  },
  "language_info": {
   "codemirror_mode": {
    "name": "ipython",
    "version": 3
   },
   "file_extension": ".py",
   "mimetype": "text/x-python",
   "name": "python",
   "nbconvert_exporter": "python",
   "pygments_lexer": "ipython3",
   "version": "3.10.9"
  }
 },
 "nbformat": 4,
 "nbformat_minor": 4
}
